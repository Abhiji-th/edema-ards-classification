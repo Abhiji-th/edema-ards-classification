{
  "nbformat": 4,
  "nbformat_minor": 0,
  "metadata": {
    "colab": {
      "provenance": [],
      "gpuType": "T4"
    },
    "kernelspec": {
      "name": "python3",
      "display_name": "Python 3"
    },
    "language_info": {
      "name": "python"
    },
    "accelerator": "GPU"
  },
  "cells": [
    {
      "cell_type": "code",
      "execution_count": 1,
      "metadata": {
        "colab": {
          "base_uri": "https://localhost:8080/"
        },
        "id": "SJWkovhz_o5T",
        "outputId": "dc0f54cc-7d78-403f-9791-212e797417f4"
      },
      "outputs": [
        {
          "output_type": "stream",
          "name": "stdout",
          "text": [
            "Mounted at /content/drive\n"
          ]
        }
      ],
      "source": [
        "from google.colab import drive\n",
        "drive.mount('/content/drive')"
      ]
    },
    {
      "cell_type": "code",
      "source": [
        "import numpy as np\n",
        "import os\n",
        "import cv2\n",
        "from sklearn.model_selection import train_test_split\n",
        "from sklearn.metrics import confusion_matrix, classification_report, cohen_kappa_score\n",
        "import tensorflow as tf\n",
        "from tensorflow.keras.applications import ResNet50, VGG16\n",
        "from tensorflow.keras.models import Sequential\n",
        "from tensorflow.keras.layers import Flatten, Dense\n",
        "from tensorflow.keras.optimizers import Adam\n",
        "from tensorflow.keras.preprocessing.image import ImageDataGenerator\n",
        "import matplotlib.pyplot as plt\n",
        "import seaborn as sns\n",
        "import time\n",
        "from sklearn.model_selection import KFold"
      ],
      "metadata": {
        "id": "9zm4BeaD__5F"
      },
      "execution_count": 2,
      "outputs": []
    },
    {
      "cell_type": "code",
      "source": [
        "def load_data(image_size, labels, base_path):\n",
        "    X = []\n",
        "    Y = []\n",
        "    for label in labels:\n",
        "        folderPath = os.path.join(base_path, label)\n",
        "        for img_name in os.listdir(folderPath):\n",
        "            img_path = os.path.join(folderPath, img_name)\n",
        "            img = cv2.imread(img_path)\n",
        "            img = cv2.resize(img, (image_size, image_size))\n",
        "            X.append(img)\n",
        "            Y.append(labels.index(label))\n",
        "    return np.array(X), np.array(Y)"
      ],
      "metadata": {
        "id": "qMe7bpKUAHkv"
      },
      "execution_count": 3,
      "outputs": []
    },
    {
      "cell_type": "code",
      "source": [
        "image_size = 224\n",
        "labels = ['covid', 'pneumonia']\n",
        "base_path = '/content/drive/MyDrive/covid_pneumonia/'\n",
        "\n",
        "# Load data\n",
        "X, Y = load_data(image_size, labels, base_path)\n",
        "\n"
      ],
      "metadata": {
        "id": "LR67oMSpGdNT"
      },
      "execution_count": 4,
      "outputs": []
    },
    {
      "cell_type": "code",
      "source": [
        "from collections import Counter\n",
        "# # Assume X (features) and y (labels)\n",
        "X_majority = X[Y == 0]  # Majority class\n",
        "X_minority = X[Y == 1]  # Minority class\n",
        "\n",
        "# Reduce the minority class to 10% of the majority class\n",
        "X_minority_downsampled, _, y_minority_downsampled, _ = train_test_split(\n",
        "    X_minority, [1] * len(X_minority), test_size=0.9, random_state=42\n",
        ")\n",
        "\n",
        "# Combine with the majority class\n",
        "X_imbalanced = np.vstack((X_majority, X_minority_downsampled))\n",
        "Y_imbalanced = np.hstack(([0] * len(X_majority), [1] * len(X_minority_downsampled)))\n",
        "\n",
        "print(f\"Original Class Distribution: {Counter(Y)}\")\n",
        "print(f\"Imbalanced Class Distribution: {Counter(Y_imbalanced)}\")"
      ],
      "metadata": {
        "colab": {
          "base_uri": "https://localhost:8080/"
        },
        "id": "oaDLvnTQMowV",
        "outputId": "601fb41c-c0e0-4708-b140-a2e09a1821c8"
      },
      "execution_count": 5,
      "outputs": [
        {
          "output_type": "stream",
          "name": "stdout",
          "text": [
            "Original Class Distribution: Counter({np.int64(0): 524, np.int64(1): 463})\n",
            "Imbalanced Class Distribution: Counter({np.int64(0): 524, np.int64(1): 46})\n"
          ]
        }
      ]
    },
    {
      "cell_type": "code",
      "source": [
        "X_train, X_test, Y_train, Y_test = train_test_split(X_imbalanced, Y_imbalanced, test_size=0.2, random_state=42)\n"
      ],
      "metadata": {
        "id": "alWF8slUMqDC"
      },
      "execution_count": 7,
      "outputs": []
    },
    {
      "cell_type": "code",
      "source": [
        "# Data Augmentation\n",
        "train_datagen = ImageDataGenerator(\n",
        "    rotation_range=30,\n",
        "    width_shift_range=0.1,\n",
        "    height_shift_range=0.1,\n",
        "    shear_range=0.2,\n",
        "    zoom_range=0.2,\n",
        "    horizontal_flip=True,\n",
        "    fill_mode='nearest'\n",
        ")\n",
        "# train_datagen.fit(X_train)"
      ],
      "metadata": {
        "id": "HEklIHf7xH2f"
      },
      "execution_count": 8,
      "outputs": []
    },
    {
      "cell_type": "code",
      "source": [
        "from sklearn.model_selection import KFold\n",
        "import numpy as np\n",
        "import tensorflow as tf\n",
        "from tensorflow.keras.models import Sequential\n",
        "from tensorflow.keras.layers import Flatten, Dense\n",
        "from tensorflow.keras.optimizers import Adam\n",
        "from sklearn.metrics import confusion_matrix, classification_report\n",
        "import seaborn as sns\n",
        "import matplotlib.pyplot as plt\n",
        "import time\n",
        "\n",
        "def build_and_train_model_kfold(base_model, X, Y, X_test, Y_test, labels, model_name, k_folds=5):\n",
        "    kfold = KFold(n_splits=k_folds, shuffle=True, random_state=42)\n",
        "\n",
        "    fold_accuracies = []\n",
        "    fold_losses = []\n",
        "    conf_matrices = []\n",
        "    training_times = []\n",
        "\n",
        "    for fold, (train_idx, val_idx) in enumerate(kfold.split(X)):\n",
        "        print(f\"\\nTraining Fold {fold + 1}/{k_folds}...\\n\")\n",
        "\n",
        "        # Splitting the dataset for this fold\n",
        "        X_train, X_val = X[train_idx], X[val_idx]\n",
        "        Y_train, Y_val = Y[train_idx], Y[val_idx]\n",
        "\n",
        "        # Define the model\n",
        "        model = Sequential([\n",
        "            base_model,\n",
        "            Flatten(),\n",
        "            Dense(512, activation='relu'),\n",
        "            Dense(1, activation='sigmoid')\n",
        "        ])\n",
        "\n",
        "        # Compile the model\n",
        "        optimizer = Adam(learning_rate=0.0001)\n",
        "        model.compile(loss='binary_crossentropy', optimizer=optimizer, metrics=['accuracy'])\n",
        "\n",
        "        # Train the model\n",
        "        start_time = time.time()\n",
        "        history = model.fit(\n",
        "            train_datagen.flow(X_train, Y_train, batch_size=32),\n",
        "            epochs=5,\n",
        "            validation_data=(X_val, Y_val),\n",
        "            verbose=1\n",
        "        )\n",
        "        training_time = time.time() - start_time\n",
        "        training_times.append(training_time)\n",
        "\n",
        "        # Evaluate on validation set\n",
        "        val_loss, val_accuracy = model.evaluate(X_val, Y_val, verbose=1)\n",
        "        fold_accuracies.append(val_accuracy)\n",
        "        fold_losses.append(val_loss)\n",
        "\n",
        "        print(f\"Fold {fold + 1} Validation Accuracy: {val_accuracy:.4f}\")\n",
        "        print(f\"Fold {fold + 1} Validation Loss: {val_loss:.4f}\")\n",
        "\n",
        "    # Train final model on full training set\n",
        "    print(\"\\nTraining Final Model on Full Dataset...\\n\")\n",
        "    model = Sequential([\n",
        "        base_model,\n",
        "        Flatten(),\n",
        "        Dense(512, activation='relu'),\n",
        "        Dense(1, activation='sigmoid')\n",
        "    ])\n",
        "\n",
        "    model.compile(loss='binary_crossentropy', optimizer=Adam(learning_rate=0.0001), metrics=['accuracy'])\n",
        "\n",
        "    history = model.fit(\n",
        "        train_datagen.flow(X, Y, batch_size=32),\n",
        "        epochs=5,\n",
        "        verbose=1\n",
        "    )\n",
        "\n",
        "    # Evaluate on test set\n",
        "    test_loss, test_accuracy = model.evaluate(X_test, Y_test, verbose=1)\n",
        "    print(f\"\\nFinal Test Accuracy: {test_accuracy:.4f}\")\n",
        "    print(f'Final Test Loss: {test_loss:.4f}')\n",
        "\n",
        "    # Confusion Matrix and Classification Report\n",
        "    Y_pred = model.predict(X_test)\n",
        "    Y_pred_classes = (Y_pred > 0.5).astype(int)\n",
        "\n",
        "    conf_matrix = confusion_matrix(Y_test, Y_pred_classes)\n",
        "    class_report = classification_report(Y_test, Y_pred_classes, target_names=labels)\n",
        "\n",
        "    print(f'\\nClassification Report for {model_name}:')\n",
        "    print(class_report)\n",
        "\n",
        "    plt.figure(figsize=(10, 7))\n",
        "    sns.heatmap(conf_matrix, annot=True, fmt='d', cmap='Blues', xticklabels=labels, yticklabels=labels)\n",
        "    plt.xlabel('Predicted')\n",
        "    plt.ylabel('True')\n",
        "    plt.title(f'Confusion Matrix for {model_name}')\n",
        "    plt.show()\n",
        "\n",
        "    # Summary of K-Fold Results\n",
        "    avg_accuracy = np.mean(fold_accuracies)\n",
        "    avg_loss = np.mean(fold_losses)\n",
        "    avg_time = np.mean(training_times)\n",
        "\n",
        "    print(f\"\\nAverage Validation Accuracy across {k_folds} folds: {avg_accuracy:.4f}\")\n",
        "    print(f\"Average Validation Loss across {k_folds} folds: {avg_loss:.4f}\")\n",
        "    print(f\"Average Training Time per fold: {avg_time:.2f} seconds\")\n",
        "\n",
        "    return history, avg_accuracy, avg_loss, conf_matrix, class_report, Y_test, Y_pred_classes\n"
      ],
      "metadata": {
        "id": "lR2KB3SzA_0e"
      },
      "execution_count": 9,
      "outputs": []
    },
    {
      "cell_type": "code",
      "source": [
        "# Train ResNet50 Model\n",
        "\n",
        "# Now loop over folds instead of manually splitting\n",
        "base_model_resnet = ResNet50(weights='imagenet', include_top=False, input_shape=(image_size, image_size, 3))\n",
        "history, avg_accuracy, avg_loss, conf_matrix, class_report, Y_test, Y_pred_classes = build_and_train_model_kfold(\n",
        "    base_model=base_model_resnet,\n",
        "    X=X_train,\n",
        "    Y=Y_train,\n",
        "    X_test=X_test,\n",
        "    Y_test=Y_test,\n",
        "    labels=labels,\n",
        "    model_name='KFold_Model',\n",
        "    k_folds=5\n",
        ")\n",
        "\n",
        "# history_resnet, time_resnet, conf_matrix_resnet, report_resnet, Y_test_resnet, Y_pred_resnet = build_and_train_model(base_model_resnet, X_train, Y_train, X_test, Y_test, labels, 'ResNet50')\n",
        "\n"
      ],
      "metadata": {
        "colab": {
          "base_uri": "https://localhost:8080/"
        },
        "id": "StaYumqGBFdy",
        "outputId": "4650f90e-e408-4668-8099-f9af785d64bb",
        "collapsed": true
      },
      "execution_count": null,
      "outputs": [
        {
          "output_type": "stream",
          "name": "stdout",
          "text": [
            "Downloading data from https://storage.googleapis.com/tensorflow/keras-applications/resnet/resnet50_weights_tf_dim_ordering_tf_kernels_notop.h5\n",
            "\u001b[1m94765736/94765736\u001b[0m \u001b[32m━━━━━━━━━━━━━━━━━━━━\u001b[0m\u001b[37m\u001b[0m \u001b[1m5s\u001b[0m 0us/step\n",
            "\n",
            "Training Fold 1/5...\n",
            "\n"
          ]
        },
        {
          "output_type": "stream",
          "name": "stderr",
          "text": [
            "/usr/local/lib/python3.11/dist-packages/keras/src/trainers/data_adapters/py_dataset_adapter.py:121: UserWarning: Your `PyDataset` class should call `super().__init__(**kwargs)` in its constructor. `**kwargs` can include `workers`, `use_multiprocessing`, `max_queue_size`. Do not pass these arguments to `fit()`, as they will be ignored.\n",
            "  self._warn_if_super_not_called()\n"
          ]
        },
        {
          "output_type": "stream",
          "name": "stdout",
          "text": [
            "Epoch 1/5\n",
            "\u001b[1m12/12\u001b[0m \u001b[32m━━━━━━━━━━━━━━━━━━━━\u001b[0m\u001b[37m\u001b[0m \u001b[1m98s\u001b[0m 4s/step - accuracy: 0.8612 - loss: 2.6035 - val_accuracy: 0.9565 - val_loss: 0.1514\n",
            "Epoch 2/5\n",
            "\u001b[1m12/12\u001b[0m \u001b[32m━━━━━━━━━━━━━━━━━━━━\u001b[0m\u001b[37m\u001b[0m \u001b[1m6s\u001b[0m 501ms/step - accuracy: 0.9292 - loss: 0.1675 - val_accuracy: 0.9239 - val_loss: 0.2817\n",
            "Epoch 3/5\n",
            "\u001b[1m12/12\u001b[0m \u001b[32m━━━━━━━━━━━━━━━━━━━━\u001b[0m\u001b[37m\u001b[0m \u001b[1m5s\u001b[0m 427ms/step - accuracy: 0.9717 - loss: 0.0615 - val_accuracy: 0.9565 - val_loss: 0.1747\n",
            "Epoch 4/5\n",
            "\u001b[1m12/12\u001b[0m \u001b[32m━━━━━━━━━━━━━━━━━━━━\u001b[0m\u001b[37m\u001b[0m \u001b[1m5s\u001b[0m 439ms/step - accuracy: 0.9940 - loss: 0.0264 - val_accuracy: 1.0000 - val_loss: 0.0158\n",
            "Epoch 5/5\n",
            "\u001b[1m12/12\u001b[0m \u001b[32m━━━━━━━━━━━━━━━━━━━━\u001b[0m\u001b[37m\u001b[0m \u001b[1m10s\u001b[0m 424ms/step - accuracy: 1.0000 - loss: 0.0064 - val_accuracy: 1.0000 - val_loss: 0.0130\n",
            "\u001b[1m3/3\u001b[0m \u001b[32m━━━━━━━━━━━━━━━━━━━━\u001b[0m\u001b[37m\u001b[0m \u001b[1m0s\u001b[0m 85ms/step - accuracy: 1.0000 - loss: 0.0106\n",
            "Fold 1 Validation Accuracy: 1.0000\n",
            "Fold 1 Validation Loss: 0.0130\n",
            "\n",
            "Training Fold 2/5...\n",
            "\n",
            "Epoch 1/5\n",
            "\u001b[1m12/12\u001b[0m \u001b[32m━━━━━━━━━━━━━━━━━━━━\u001b[0m\u001b[37m\u001b[0m \u001b[1m94s\u001b[0m 4s/step - accuracy: 0.7859 - loss: 1.5097 - val_accuracy: 0.9560 - val_loss: 1.9027\n",
            "Epoch 2/5\n",
            "\u001b[1m12/12\u001b[0m \u001b[32m━━━━━━━━━━━━━━━━━━━━\u001b[0m\u001b[37m\u001b[0m \u001b[1m27s\u001b[0m 422ms/step - accuracy: 0.9909 - loss: 0.0265 - val_accuracy: 0.9560 - val_loss: 1.3989\n",
            "Epoch 3/5\n",
            "\u001b[1m12/12\u001b[0m \u001b[32m━━━━━━━━━━━━━━━━━━━━\u001b[0m\u001b[37m\u001b[0m \u001b[1m5s\u001b[0m 433ms/step - accuracy: 0.9870 - loss: 0.0314 - val_accuracy: 0.9670 - val_loss: 0.4638\n",
            "Epoch 4/5\n",
            "\u001b[1m12/12\u001b[0m \u001b[32m━━━━━━━━━━━━━━━━━━━━\u001b[0m\u001b[37m\u001b[0m \u001b[1m10s\u001b[0m 436ms/step - accuracy: 0.9955 - loss: 0.0118 - val_accuracy: 0.9780 - val_loss: 0.2217\n",
            "Epoch 5/5\n",
            "\u001b[1m12/12\u001b[0m \u001b[32m━━━━━━━━━━━━━━━━━━━━\u001b[0m\u001b[37m\u001b[0m \u001b[1m6s\u001b[0m 516ms/step - accuracy: 1.0000 - loss: 0.0026 - val_accuracy: 0.9780 - val_loss: 0.1253\n",
            "\u001b[1m3/3\u001b[0m \u001b[32m━━━━━━━━━━━━━━━━━━━━\u001b[0m\u001b[37m\u001b[0m \u001b[1m0s\u001b[0m 89ms/step - accuracy: 0.9656 - loss: 0.1947\n",
            "Fold 2 Validation Accuracy: 0.9780\n",
            "Fold 2 Validation Loss: 0.1253\n",
            "\n",
            "Training Fold 3/5...\n",
            "\n",
            "Epoch 1/5\n",
            "\u001b[1m12/12\u001b[0m \u001b[32m━━━━━━━━━━━━━━━━━━━━\u001b[0m\u001b[37m\u001b[0m \u001b[1m84s\u001b[0m 3s/step - accuracy: 0.7984 - loss: 0.3869 - val_accuracy: 0.8901 - val_loss: 2.6145\n",
            "Epoch 2/5\n",
            "\u001b[1m12/12\u001b[0m \u001b[32m━━━━━━━━━━━━━━━━━━━━\u001b[0m\u001b[37m\u001b[0m \u001b[1m6s\u001b[0m 533ms/step - accuracy: 0.9878 - loss: 0.0748 - val_accuracy: 0.8791 - val_loss: 29.5254\n",
            "Epoch 3/5\n",
            "\u001b[1m12/12\u001b[0m \u001b[32m━━━━━━━━━━━━━━━━━━━━\u001b[0m\u001b[37m\u001b[0m \u001b[1m5s\u001b[0m 440ms/step - accuracy: 0.9926 - loss: 0.0203 - val_accuracy: 0.8791 - val_loss: 12.8150\n",
            "Epoch 4/5\n",
            "\u001b[1m12/12\u001b[0m \u001b[32m━━━━━━━━━━━━━━━━━━━━\u001b[0m\u001b[37m\u001b[0m \u001b[1m6s\u001b[0m 518ms/step - accuracy: 0.9860 - loss: 0.0304 - val_accuracy: 0.8901 - val_loss: 4.6273\n",
            "Epoch 5/5\n",
            "\u001b[1m12/12\u001b[0m \u001b[32m━━━━━━━━━━━━━━━━━━━━\u001b[0m\u001b[37m\u001b[0m \u001b[1m5s\u001b[0m 439ms/step - accuracy: 0.9947 - loss: 0.2981 - val_accuracy: 0.8681 - val_loss: 16.5162\n",
            "\u001b[1m3/3\u001b[0m \u001b[32m━━━━━━━━━━━━━━━━━━━━\u001b[0m\u001b[37m\u001b[0m \u001b[1m0s\u001b[0m 91ms/step - accuracy: 0.8364 - loss: 19.3965\n",
            "Fold 3 Validation Accuracy: 0.8681\n",
            "Fold 3 Validation Loss: 16.5162\n",
            "\n",
            "Training Fold 4/5...\n",
            "\n",
            "Epoch 1/5\n",
            "\u001b[1m12/12\u001b[0m \u001b[32m━━━━━━━━━━━━━━━━━━━━\u001b[0m\u001b[37m\u001b[0m \u001b[1m86s\u001b[0m 3s/step - accuracy: 0.8020 - loss: 0.3525 - val_accuracy: 0.9341 - val_loss: 2.9906\n",
            "Epoch 2/5\n",
            "\u001b[1m12/12\u001b[0m \u001b[32m━━━━━━━━━━━━━━━━━━━━\u001b[0m\u001b[37m\u001b[0m \u001b[1m5s\u001b[0m 434ms/step - accuracy: 1.0000 - loss: 6.3294e-04 - val_accuracy: 0.9780 - val_loss: 0.9684\n",
            "Epoch 3/5\n",
            "\u001b[1m12/12\u001b[0m \u001b[32m━━━━━━━━━━━━━━━━━━━━\u001b[0m\u001b[37m\u001b[0m \u001b[1m6s\u001b[0m 517ms/step - accuracy: 0.9982 - loss: 0.0034 - val_accuracy: 0.9890 - val_loss: 0.1553\n",
            "Epoch 4/5\n",
            "\u001b[1m12/12\u001b[0m \u001b[32m━━━━━━━━━━━━━━━━━━━━\u001b[0m\u001b[37m\u001b[0m \u001b[1m6s\u001b[0m 444ms/step - accuracy: 1.0000 - loss: 0.0011 - val_accuracy: 0.9890 - val_loss: 0.0284\n",
            "Epoch 5/5\n",
            "\u001b[1m12/12\u001b[0m \u001b[32m━━━━━━━━━━━━━━━━━━━━\u001b[0m\u001b[37m\u001b[0m \u001b[1m6s\u001b[0m 484ms/step - accuracy: 0.9925 - loss: 0.0092 - val_accuracy: 1.0000 - val_loss: 5.4562e-04\n",
            "\u001b[1m3/3\u001b[0m \u001b[32m━━━━━━━━━━━━━━━━━━━━\u001b[0m\u001b[37m\u001b[0m \u001b[1m0s\u001b[0m 96ms/step - accuracy: 1.0000 - loss: 3.9344e-04\n",
            "Fold 4 Validation Accuracy: 1.0000\n",
            "Fold 4 Validation Loss: 0.0005\n",
            "\n",
            "Training Fold 5/5...\n",
            "\n",
            "Epoch 1/5\n"
          ]
        }
      ]
    },
    {
      "cell_type": "code",
      "source": [
        "# Train VGG16 Model\n",
        "base_model_vgg = VGG16(weights='imagenet', include_top=False, input_shape=(image_size, image_size, 3))\n",
        "history, avg_accuracy, avg_loss, conf_matrix, class_report, Y_test, Y_pred_classes = build_and_train_model_kfold(\n",
        "    base_model=base_model_vgg,\n",
        "    X=X_train,\n",
        "    Y=Y_train,\n",
        "    X_test=X_test,\n",
        "    Y_test=Y_test,\n",
        "    labels=labels,\n",
        "    model_name='KFold_Model',\n",
        "    k_folds=5\n",
        ")"
      ],
      "metadata": {
        "colab": {
          "base_uri": "https://localhost:8080/",
          "height": 1000
        },
        "id": "WdeTUeQ_G0l8",
        "outputId": "63fedc9d-cd01-4c96-d783-8a76a6af8b59"
      },
      "execution_count": null,
      "outputs": [
        {
          "output_type": "stream",
          "name": "stdout",
          "text": [
            "Downloading data from https://storage.googleapis.com/tensorflow/keras-applications/vgg16/vgg16_weights_tf_dim_ordering_tf_kernels_notop.h5\n",
            "\u001b[1m58889256/58889256\u001b[0m \u001b[32m━━━━━━━━━━━━━━━━━━━━\u001b[0m\u001b[37m\u001b[0m \u001b[1m0s\u001b[0m 0us/step\n",
            "\n",
            "Training Fold 1/5...\n",
            "\n"
          ]
        },
        {
          "output_type": "stream",
          "name": "stderr",
          "text": [
            "/usr/local/lib/python3.11/dist-packages/keras/src/trainers/data_adapters/py_dataset_adapter.py:121: UserWarning: Your `PyDataset` class should call `super().__init__(**kwargs)` in its constructor. `**kwargs` can include `workers`, `use_multiprocessing`, `max_queue_size`. Do not pass these arguments to `fit()`, as they will be ignored.\n",
            "  self._warn_if_super_not_called()\n"
          ]
        },
        {
          "output_type": "stream",
          "name": "stdout",
          "text": [
            "Epoch 1/5\n",
            "\u001b[1m20/20\u001b[0m \u001b[32m━━━━━━━━━━━━━━━━━━━━\u001b[0m\u001b[37m\u001b[0m \u001b[1m120s\u001b[0m 4s/step - accuracy: 0.6524 - loss: 2.3669 - val_accuracy: 0.8797 - val_loss: 0.3467\n",
            "Epoch 2/5\n",
            "\u001b[1m20/20\u001b[0m \u001b[32m━━━━━━━━━━━━━━━━━━━━\u001b[0m\u001b[37m\u001b[0m \u001b[1m12s\u001b[0m 586ms/step - accuracy: 0.8583 - loss: 0.3810 - val_accuracy: 0.8861 - val_loss: 0.2787\n",
            "Epoch 3/5\n",
            "\u001b[1m20/20\u001b[0m \u001b[32m━━━━━━━━━━━━━━━━━━━━\u001b[0m\u001b[37m\u001b[0m \u001b[1m12s\u001b[0m 582ms/step - accuracy: 0.8927 - loss: 0.2647 - val_accuracy: 0.9241 - val_loss: 0.1933\n",
            "Epoch 4/5\n",
            "\u001b[1m20/20\u001b[0m \u001b[32m━━━━━━━━━━━━━━━━━━━━\u001b[0m\u001b[37m\u001b[0m \u001b[1m13s\u001b[0m 635ms/step - accuracy: 0.9326 - loss: 0.1874 - val_accuracy: 0.9494 - val_loss: 0.2033\n",
            "Epoch 5/5\n",
            "\u001b[1m20/20\u001b[0m \u001b[32m━━━━━━━━━━━━━━━━━━━━\u001b[0m\u001b[37m\u001b[0m \u001b[1m12s\u001b[0m 588ms/step - accuracy: 0.9244 - loss: 0.2014 - val_accuracy: 0.9557 - val_loss: 0.1234\n",
            "\u001b[1m5/5\u001b[0m \u001b[32m━━━━━━━━━━━━━━━━━━━━\u001b[0m\u001b[37m\u001b[0m \u001b[1m1s\u001b[0m 170ms/step - accuracy: 0.9535 - loss: 0.1349\n",
            "Fold 1 Validation Accuracy: 0.9557\n",
            "Fold 1 Validation Loss: 0.1234\n",
            "\n",
            "Training Fold 2/5...\n",
            "\n",
            "Epoch 1/5\n",
            "\u001b[1m20/20\u001b[0m \u001b[32m━━━━━━━━━━━━━━━━━━━━\u001b[0m\u001b[37m\u001b[0m \u001b[1m22s\u001b[0m 799ms/step - accuracy: 0.7795 - loss: 0.4699 - val_accuracy: 0.9684 - val_loss: 0.0859\n",
            "Epoch 2/5\n",
            "\u001b[1m20/20\u001b[0m \u001b[32m━━━━━━━━━━━━━━━━━━━━\u001b[0m\u001b[37m\u001b[0m \u001b[1m12s\u001b[0m 578ms/step - accuracy: 0.9429 - loss: 0.1770 - val_accuracy: 0.9620 - val_loss: 0.1639\n",
            "Epoch 3/5\n",
            "\u001b[1m20/20\u001b[0m \u001b[32m━━━━━━━━━━━━━━━━━━━━\u001b[0m\u001b[37m\u001b[0m \u001b[1m12s\u001b[0m 590ms/step - accuracy: 0.9617 - loss: 0.1138 - val_accuracy: 1.0000 - val_loss: 0.0164\n",
            "Epoch 4/5\n",
            "\u001b[1m20/20\u001b[0m \u001b[32m━━━━━━━━━━━━━━━━━━━━\u001b[0m\u001b[37m\u001b[0m \u001b[1m12s\u001b[0m 609ms/step - accuracy: 0.9551 - loss: 0.1310 - val_accuracy: 0.9684 - val_loss: 0.0761\n",
            "Epoch 5/5\n",
            "\u001b[1m20/20\u001b[0m \u001b[32m━━━━━━━━━━━━━━━━━━━━\u001b[0m\u001b[37m\u001b[0m \u001b[1m12s\u001b[0m 582ms/step - accuracy: 0.9649 - loss: 0.1527 - val_accuracy: 1.0000 - val_loss: 0.0085\n",
            "\u001b[1m5/5\u001b[0m \u001b[32m━━━━━━━━━━━━━━━━━━━━\u001b[0m\u001b[37m\u001b[0m \u001b[1m1s\u001b[0m 175ms/step - accuracy: 1.0000 - loss: 0.0117\n",
            "Fold 2 Validation Accuracy: 1.0000\n",
            "Fold 2 Validation Loss: 0.0085\n",
            "\n",
            "Training Fold 3/5...\n",
            "\n",
            "Epoch 1/5\n",
            "\u001b[1m20/20\u001b[0m \u001b[32m━━━━━━━━━━━━━━━━━━━━\u001b[0m\u001b[37m\u001b[0m \u001b[1m23s\u001b[0m 783ms/step - accuracy: 0.8492 - loss: 0.3112 - val_accuracy: 0.9873 - val_loss: 0.0457\n",
            "Epoch 2/5\n",
            "\u001b[1m20/20\u001b[0m \u001b[32m━━━━━━━━━━━━━━━━━━━━\u001b[0m\u001b[37m\u001b[0m \u001b[1m12s\u001b[0m 606ms/step - accuracy: 0.9691 - loss: 0.1118 - val_accuracy: 0.9873 - val_loss: 0.0185\n",
            "Epoch 3/5\n",
            "\u001b[1m20/20\u001b[0m \u001b[32m━━━━━━━━━━━━━━━━━━━━\u001b[0m\u001b[37m\u001b[0m \u001b[1m12s\u001b[0m 587ms/step - accuracy: 0.9796 - loss: 0.0560 - val_accuracy: 0.9937 - val_loss: 0.0194\n",
            "Epoch 4/5\n",
            "\u001b[1m20/20\u001b[0m \u001b[32m━━━━━━━━━━━━━━━━━━━━\u001b[0m\u001b[37m\u001b[0m \u001b[1m12s\u001b[0m 573ms/step - accuracy: 0.9633 - loss: 0.1075 - val_accuracy: 0.9937 - val_loss: 0.0577\n",
            "Epoch 5/5\n",
            "\u001b[1m20/20\u001b[0m \u001b[32m━━━━━━━━━━━━━━━━━━━━\u001b[0m\u001b[37m\u001b[0m \u001b[1m15s\u001b[0m 712ms/step - accuracy: 0.9780 - loss: 0.0734 - val_accuracy: 0.9873 - val_loss: 0.0364\n",
            "\u001b[1m5/5\u001b[0m \u001b[32m━━━━━━━━━━━━━━━━━━━━\u001b[0m\u001b[37m\u001b[0m \u001b[1m1s\u001b[0m 173ms/step - accuracy: 0.9845 - loss: 0.0377\n",
            "Fold 3 Validation Accuracy: 0.9873\n",
            "Fold 3 Validation Loss: 0.0364\n",
            "\n",
            "Training Fold 4/5...\n",
            "\n",
            "Epoch 1/5\n",
            "\u001b[1m20/20\u001b[0m \u001b[32m━━━━━━━━━━━━━━━━━━━━\u001b[0m\u001b[37m\u001b[0m \u001b[1m23s\u001b[0m 785ms/step - accuracy: 0.7800 - loss: 0.4009 - val_accuracy: 0.9051 - val_loss: 0.3402\n",
            "Epoch 2/5\n",
            "\u001b[1m20/20\u001b[0m \u001b[32m━━━━━━━━━━━━━━━━━━━━\u001b[0m\u001b[37m\u001b[0m \u001b[1m12s\u001b[0m 590ms/step - accuracy: 0.9299 - loss: 0.2320 - val_accuracy: 0.9873 - val_loss: 0.0615\n",
            "Epoch 3/5\n",
            "\u001b[1m20/20\u001b[0m \u001b[32m━━━━━━━━━━━━━━━━━━━━\u001b[0m\u001b[37m\u001b[0m \u001b[1m12s\u001b[0m 601ms/step - accuracy: 0.9760 - loss: 0.0661 - val_accuracy: 0.8101 - val_loss: 0.5346\n",
            "Epoch 4/5\n",
            "\u001b[1m20/20\u001b[0m \u001b[32m━━━━━━━━━━━━━━━━━━━━\u001b[0m\u001b[37m\u001b[0m \u001b[1m12s\u001b[0m 575ms/step - accuracy: 0.9608 - loss: 0.0840 - val_accuracy: 0.9810 - val_loss: 0.0334\n",
            "Epoch 5/5\n",
            "\u001b[1m20/20\u001b[0m \u001b[32m━━━━━━━━━━━━━━━━━━━━\u001b[0m\u001b[37m\u001b[0m \u001b[1m12s\u001b[0m 583ms/step - accuracy: 0.9897 - loss: 0.0217 - val_accuracy: 0.9937 - val_loss: 0.0387\n",
            "\u001b[1m5/5\u001b[0m \u001b[32m━━━━━━━━━━━━━━━━━━━━\u001b[0m\u001b[37m\u001b[0m \u001b[1m1s\u001b[0m 167ms/step - accuracy: 0.9949 - loss: 0.0308\n",
            "Fold 4 Validation Accuracy: 0.9937\n",
            "Fold 4 Validation Loss: 0.0387\n",
            "\n",
            "Training Fold 5/5...\n",
            "\n",
            "Epoch 1/5\n",
            "\u001b[1m20/20\u001b[0m \u001b[32m━━━━━━━━━━━━━━━━━━━━\u001b[0m\u001b[37m\u001b[0m \u001b[1m71s\u001b[0m 3s/step - accuracy: 0.8130 - loss: 0.3785 - val_accuracy: 0.9873 - val_loss: 0.0717\n",
            "Epoch 2/5\n",
            "\u001b[1m20/20\u001b[0m \u001b[32m━━━━━━━━━━━━━━━━━━━━\u001b[0m\u001b[37m\u001b[0m \u001b[1m12s\u001b[0m 572ms/step - accuracy: 0.9741 - loss: 0.2653 - val_accuracy: 1.0000 - val_loss: 0.0104\n",
            "Epoch 3/5\n",
            "\u001b[1m20/20\u001b[0m \u001b[32m━━━━━━━━━━━━━━━━━━━━\u001b[0m\u001b[37m\u001b[0m \u001b[1m12s\u001b[0m 584ms/step - accuracy: 0.9709 - loss: 0.1104 - val_accuracy: 1.0000 - val_loss: 0.0052\n",
            "Epoch 4/5\n",
            "\u001b[1m20/20\u001b[0m \u001b[32m━━━━━━━━━━━━━━━━━━━━\u001b[0m\u001b[37m\u001b[0m \u001b[1m12s\u001b[0m 601ms/step - accuracy: 0.9911 - loss: 0.0353 - val_accuracy: 0.9936 - val_loss: 0.0174\n",
            "Epoch 5/5\n",
            "\u001b[1m20/20\u001b[0m \u001b[32m━━━━━━━━━━━━━━━━━━━━\u001b[0m\u001b[37m\u001b[0m \u001b[1m12s\u001b[0m 597ms/step - accuracy: 0.9820 - loss: 0.0406 - val_accuracy: 1.0000 - val_loss: 0.0106\n",
            "\u001b[1m5/5\u001b[0m \u001b[32m━━━━━━━━━━━━━━━━━━━━\u001b[0m\u001b[37m\u001b[0m \u001b[1m1s\u001b[0m 169ms/step - accuracy: 1.0000 - loss: 0.0073\n",
            "Fold 5 Validation Accuracy: 1.0000\n",
            "Fold 5 Validation Loss: 0.0106\n",
            "\n",
            "Training Final Model on Full Dataset...\n",
            "\n",
            "Epoch 1/5\n",
            "\u001b[1m25/25\u001b[0m \u001b[32m━━━━━━━━━━━━━━━━━━━━\u001b[0m\u001b[37m\u001b[0m \u001b[1m51s\u001b[0m 2s/step - accuracy: 0.8937 - loss: 0.2470\n",
            "Epoch 2/5\n",
            "\u001b[1m25/25\u001b[0m \u001b[32m━━━━━━━━━━━━━━━━━━━━\u001b[0m\u001b[37m\u001b[0m \u001b[1m48s\u001b[0m 525ms/step - accuracy: 0.9816 - loss: 0.0632\n",
            "Epoch 3/5\n",
            "\u001b[1m25/25\u001b[0m \u001b[32m━━━━━━━━━━━━━━━━━━━━\u001b[0m\u001b[37m\u001b[0m \u001b[1m14s\u001b[0m 537ms/step - accuracy: 0.9873 - loss: 0.0492\n",
            "Epoch 4/5\n",
            "\u001b[1m25/25\u001b[0m \u001b[32m━━━━━━━━━━━━━━━━━━━━\u001b[0m\u001b[37m\u001b[0m \u001b[1m14s\u001b[0m 541ms/step - accuracy: 0.9918 - loss: 0.0300\n",
            "Epoch 5/5\n",
            "\u001b[1m25/25\u001b[0m \u001b[32m━━━━━━━━━━━━━━━━━━━━\u001b[0m\u001b[37m\u001b[0m \u001b[1m14s\u001b[0m 535ms/step - accuracy: 0.9859 - loss: 0.0428\n",
            "\u001b[1m7/7\u001b[0m \u001b[32m━━━━━━━━━━━━━━━━━━━━\u001b[0m\u001b[37m\u001b[0m \u001b[1m6s\u001b[0m 828ms/step - accuracy: 1.0000 - loss: 0.0057\n",
            "\n",
            "Final Test Accuracy: 1.0000\n",
            "Final Test Loss: 0.0070\n",
            "\u001b[1m7/7\u001b[0m \u001b[32m━━━━━━━━━━━━━━━━━━━━\u001b[0m\u001b[37m\u001b[0m \u001b[1m2s\u001b[0m 235ms/step\n",
            "\n",
            "Classification Report for KFold_Model:\n",
            "              precision    recall  f1-score   support\n",
            "\n",
            "       covid       1.00      1.00      1.00       105\n",
            "   pneumonia       1.00      1.00      1.00        93\n",
            "\n",
            "    accuracy                           1.00       198\n",
            "   macro avg       1.00      1.00      1.00       198\n",
            "weighted avg       1.00      1.00      1.00       198\n",
            "\n"
          ]
        },
        {
          "output_type": "display_data",
          "data": {
            "text/plain": [
              "<Figure size 1000x700 with 2 Axes>"
            ],
            "image/png": "[encoded data removed]"
          },
          "metadata": {}
        },
        {
          "output_type": "stream",
          "name": "stdout",
          "text": [
            "\n",
            "Average Validation Accuracy across 5 folds: 0.9873\n",
            "Average Validation Loss across 5 folds: 0.0435\n",
            "Average Training Time per fold: 105.97 seconds\n"
          ]
        }
      ]
    },
    {
      "cell_type": "code",
      "source": [
        "def calculate_metrics(conf_matrix, Y_test, Y_pred_classes):\n",
        "    # Sensitivity (Recall)\n",
        "    sensitivity = np.diag(conf_matrix) / np.sum(conf_matrix, axis=1)\n",
        "\n",
        "    # Specificity\n",
        "    specificity = []\n",
        "    for i in range(len(conf_matrix)):\n",
        "        true_negatives = np.sum(np.delete(np.delete(conf_matrix, i, axis=0), i, axis=1))\n",
        "        false_positives = np.sum(np.delete(conf_matrix, i, axis=0)[:, i])\n",
        "        specificity.append(true_negatives / (true_negatives + false_positives))\n",
        "\n",
        "    # Cohen's Kappa\n",
        "    kappa = cohen_kappa_score(Y_test, Y_pred_classes)\n",
        "\n",
        "    # Classification Report (F1-score included)\n",
        "    class_report_dict = classification_report(Y_test, Y_pred_classes, target_names=labels, output_dict=True)\n",
        "    f1_score = {label: class_report_dict[label]['f1-score'] for label in labels}\n",
        "\n",
        "    return sensitivity, specificity, f1_score, kappa\n",
        "\n",
        "sensitivity_resnet, specificity_resnet, f1_score_resnet, kappa_resnet = calculate_metrics(conf_matrix_resnet, Y_test_resnet, Y_pred_resnet)\n",
        "sensitivity_vgg, specificity_vgg, f1_score_vgg, kappa_vgg = calculate_metrics(conf_matrix_vgg, Y_test_vgg, Y_pred_vgg)"
      ],
      "metadata": {
        "id": "UiaZDpfVNRkg",
        "colab": {
          "base_uri": "https://localhost:8080/",
          "height": 211
        },
        "outputId": "10dbe414-afcd-41e4-ddfd-c8d7848b91bd"
      },
      "execution_count": null,
      "outputs": [
        {
          "output_type": "error",
          "ename": "NameError",
          "evalue": "name 'conf_matrix_vgg' is not defined",
          "traceback": [
            "\u001b[0;31m---------------------------------------------------------------------------\u001b[0m",
            "\u001b[0;31mNameError\u001b[0m                                 Traceback (most recent call last)",
            "\u001b[0;32m<ipython-input-12-855aa62de00a>\u001b[0m in \u001b[0;36m<cell line: 0>\u001b[0;34m()\u001b[0m\n\u001b[1;32m     20\u001b[0m \u001b[0;34m\u001b[0m\u001b[0m\n\u001b[1;32m     21\u001b[0m \u001b[0msensitivity_resnet\u001b[0m\u001b[0;34m,\u001b[0m \u001b[0mspecificity_resnet\u001b[0m\u001b[0;34m,\u001b[0m \u001b[0mf1_score_resnet\u001b[0m\u001b[0;34m,\u001b[0m \u001b[0mkappa_resnet\u001b[0m \u001b[0;34m=\u001b[0m \u001b[0mcalculate_metrics\u001b[0m\u001b[0;34m(\u001b[0m\u001b[0mconf_matrix_resnet\u001b[0m\u001b[0;34m,\u001b[0m \u001b[0mY_test_resnet\u001b[0m\u001b[0;34m,\u001b[0m \u001b[0mY_pred_resnet\u001b[0m\u001b[0;34m)\u001b[0m\u001b[0;34m\u001b[0m\u001b[0;34m\u001b[0m\u001b[0m\n\u001b[0;32m---> 22\u001b[0;31m \u001b[0msensitivity_vgg\u001b[0m\u001b[0;34m,\u001b[0m \u001b[0mspecificity_vgg\u001b[0m\u001b[0;34m,\u001b[0m \u001b[0mf1_score_vgg\u001b[0m\u001b[0;34m,\u001b[0m \u001b[0mkappa_vgg\u001b[0m \u001b[0;34m=\u001b[0m \u001b[0mcalculate_metrics\u001b[0m\u001b[0;34m(\u001b[0m\u001b[0mconf_matrix_vgg\u001b[0m\u001b[0;34m,\u001b[0m \u001b[0mY_test_vgg\u001b[0m\u001b[0;34m,\u001b[0m \u001b[0mY_pred_vgg\u001b[0m\u001b[0;34m)\u001b[0m\u001b[0;34m\u001b[0m\u001b[0;34m\u001b[0m\u001b[0m\n\u001b[0m",
            "\u001b[0;31mNameError\u001b[0m: name 'conf_matrix_vgg' is not defined"
          ]
        }
      ]
    },
    {
      "cell_type": "code",
      "source": [
        "print(\"ResNet50 Metrics:\")\n",
        "print(f\"Sensitivity (Recall): {sensitivity_resnet}\")\n",
        "print(f\"Specificity: {specificity_resnet}\")\n",
        "print(f\"F1 Score: {f1_score_resnet}\")\n",
        "print(f\"Cohen's Kappa: {kappa_resnet}\")\n",
        "\n",
        "print(\"\\nVGG16 Metrics:\")\n",
        "print(f\"Sensitivity (Recall): {sensitivity_vgg}\")\n",
        "print(f\"Specificity: {specificity_vgg}\")\n",
        "print(f\"F1 Score: {f1_score_vgg}\")\n",
        "print(f\"Cohen's Kappa: {kappa_vgg}\")"
      ],
      "metadata": {
        "colab": {
          "base_uri": "https://localhost:8080/",
          "height": 332
        },
        "id": "Fd4uoyKeRCUj",
        "outputId": "182a1eea-b251-4f00-9d00-2813be20a790"
      },
      "execution_count": null,
      "outputs": [
        {
          "output_type": "stream",
          "name": "stdout",
          "text": [
            "ResNet50 Metrics:\n",
            "Sensitivity (Recall): [1. 1.]\n",
            "Specificity: [1.0, 1.0]\n",
            "F1 Score: {'covid': 1.0, 'pneumonia': 1.0}\n",
            "Cohen's Kappa: 1.0\n",
            "\n",
            "VGG16 Metrics:\n"
          ]
        },
        {
          "output_type": "error",
          "ename": "NameError",
          "evalue": "name 'sensitivity_vgg' is not defined",
          "traceback": [
            "\u001b[0;31m---------------------------------------------------------------------------\u001b[0m",
            "\u001b[0;31mNameError\u001b[0m                                 Traceback (most recent call last)",
            "\u001b[0;32m<ipython-input-13-c15e7a59d905>\u001b[0m in \u001b[0;36m<cell line: 0>\u001b[0;34m()\u001b[0m\n\u001b[1;32m      6\u001b[0m \u001b[0;34m\u001b[0m\u001b[0m\n\u001b[1;32m      7\u001b[0m \u001b[0mprint\u001b[0m\u001b[0;34m(\u001b[0m\u001b[0;34m\"\\nVGG16 Metrics:\"\u001b[0m\u001b[0;34m)\u001b[0m\u001b[0;34m\u001b[0m\u001b[0;34m\u001b[0m\u001b[0m\n\u001b[0;32m----> 8\u001b[0;31m \u001b[0mprint\u001b[0m\u001b[0;34m(\u001b[0m\u001b[0;34mf\"Sensitivity (Recall): {sensitivity_vgg}\"\u001b[0m\u001b[0;34m)\u001b[0m\u001b[0;34m\u001b[0m\u001b[0;34m\u001b[0m\u001b[0m\n\u001b[0m\u001b[1;32m      9\u001b[0m \u001b[0mprint\u001b[0m\u001b[0;34m(\u001b[0m\u001b[0;34mf\"Specificity: {specificity_vgg}\"\u001b[0m\u001b[0;34m)\u001b[0m\u001b[0;34m\u001b[0m\u001b[0;34m\u001b[0m\u001b[0m\n\u001b[1;32m     10\u001b[0m \u001b[0mprint\u001b[0m\u001b[0;34m(\u001b[0m\u001b[0;34mf\"F1 Score: {f1_score_vgg}\"\u001b[0m\u001b[0;34m)\u001b[0m\u001b[0;34m\u001b[0m\u001b[0;34m\u001b[0m\u001b[0m\n",
            "\u001b[0;31mNameError\u001b[0m: name 'sensitivity_vgg' is not defined"
          ]
        }
      ]
    },
    {
      "cell_type": "code",
      "source": [
        "import numpy as np\n",
        "import hashlib\n",
        "\n",
        "def get_image_hash(image_array):\n",
        "    \"\"\"Compute hash of an image numpy array to detect duplicates.\"\"\"\n",
        "    hasher = hashlib.md5()\n",
        "    hasher.update(image_array.tobytes())  # Convert image array to bytes\n",
        "    return hasher.hexdigest()\n",
        "\n",
        "def check_duplicate_images(X_train, X_val, X_test):\n",
        "    \"\"\"Checks for duplicate images across train, validation, and test sets.\"\"\"\n",
        "    sets = {'train': X_train, 'val': X_val, 'test': X_test}\n",
        "    hash_dict = {}\n",
        "\n",
        "    for split, images in sets.items():\n",
        "        for i, img in enumerate(images):\n",
        "            img_hash = get_image_hash(img)\n",
        "            if img_hash in hash_dict:\n",
        "                print(f\"⚠️ Duplicate image found between {split} and {hash_dict[img_hash]}!\")\n",
        "            hash_dict[img_hash] = split  # Store where the hash was first seen\n",
        "\n",
        "    print(\"✅ No duplicate images found between train, val, and test sets!\")\n",
        "\n",
        "# Run check\n",
        "check_duplicate_images(X_train, X_val, X_test)\n"
      ],
      "metadata": {
        "id": "NHSQdtL0RGi3",
        "colab": {
          "base_uri": "https://localhost:8080/"
        },
        "outputId": "47ce22cd-cded-46fd-ed55-9d44234547b4"
      },
      "execution_count": null,
      "outputs": [
        {
          "output_type": "stream",
          "name": "stdout",
          "text": [
            "✅ No duplicate images found between train, val, and test sets!\n"
          ]
        }
      ]
    }
  ]
}